{
  "cells": [
    {
      "cell_type": "markdown",
      "metadata": {
        "id": "view-in-github",
        "colab_type": "text"
      },
      "source": [
        "<a href=\"https://colab.research.google.com/github/rajuaddalaOracle/raddala/blob/master/Final_Project.ipynb\" target=\"_parent\"><img src=\"https://colab.research.google.com/assets/colab-badge.svg\" alt=\"Open In Colab\"/></a>"
      ]
    },
    {
      "cell_type": "markdown",
      "metadata": {
        "id": "oWjM6bW2XxAA"
      },
      "source": [
        "# The Future of Health Care- Disease Prediction\n",
        "### BAX 423 Final Project \n"
      ]
    },
    {
      "cell_type": "markdown",
      "metadata": {
        "id": "i-j4nMGHYDF5"
      },
      "source": [
        "### Installing & importing required packages"
      ]
    },
    {
      "cell_type": "code",
      "execution_count": null,
      "metadata": {
        "colab": {
          "base_uri": "https://localhost:8080/"
        },
        "id": "Nc1I3Ld0SeHn",
        "outputId": "e22bce82-2baf-4bed-edb9-1c7142a2088c"
      },
      "outputs": [
        {
          "name": "stdout",
          "output_type": "stream",
          "text": [
            "Looking in indexes: https://pypi.org/simple, https://us-python.pkg.dev/colab-wheels/public/simple/\n",
            "Collecting pyspark\n",
            "  Downloading pyspark-3.2.1.tar.gz (281.4 MB)\n",
            "\u001b[K     |████████████████████████████████| 281.4 MB 31 kB/s \n",
            "\u001b[?25hCollecting py4j==0.10.9.3\n",
            "  Downloading py4j-0.10.9.3-py2.py3-none-any.whl (198 kB)\n",
            "\u001b[K     |████████████████████████████████| 198 kB 67.4 MB/s \n",
            "\u001b[?25hBuilding wheels for collected packages: pyspark\n",
            "  Building wheel for pyspark (setup.py) ... \u001b[?25l\u001b[?25hdone\n",
            "  Created wheel for pyspark: filename=pyspark-3.2.1-py2.py3-none-any.whl size=281853642 sha256=8453ea1db7b4b0ca08cc77a368dc8381d11ed146179a7e1f87c64e2adbc2d07f\n",
            "  Stored in directory: /root/.cache/pip/wheels/9f/f5/07/7cd8017084dce4e93e84e92efd1e1d5334db05f2e83bcef74f\n",
            "Successfully built pyspark\n",
            "Installing collected packages: py4j, pyspark\n",
            "Successfully installed py4j-0.10.9.3 pyspark-3.2.1\n",
            "Looking in indexes: https://pypi.org/simple, https://us-python.pkg.dev/colab-wheels/public/simple/\n",
            "Collecting flask-ngrok\n",
            "  Downloading flask_ngrok-0.0.25-py3-none-any.whl (3.1 kB)\n",
            "Requirement already satisfied: requests in /usr/local/lib/python3.7/dist-packages (from flask-ngrok) (2.23.0)\n",
            "Requirement already satisfied: Flask>=0.8 in /usr/local/lib/python3.7/dist-packages (from flask-ngrok) (1.1.4)\n",
            "Requirement already satisfied: Jinja2<3.0,>=2.10.1 in /usr/local/lib/python3.7/dist-packages (from Flask>=0.8->flask-ngrok) (2.11.3)\n",
            "Requirement already satisfied: Werkzeug<2.0,>=0.15 in /usr/local/lib/python3.7/dist-packages (from Flask>=0.8->flask-ngrok) (1.0.1)\n",
            "Requirement already satisfied: itsdangerous<2.0,>=0.24 in /usr/local/lib/python3.7/dist-packages (from Flask>=0.8->flask-ngrok) (1.1.0)\n",
            "Requirement already satisfied: click<8.0,>=5.1 in /usr/local/lib/python3.7/dist-packages (from Flask>=0.8->flask-ngrok) (7.1.2)\n",
            "Requirement already satisfied: MarkupSafe>=0.23 in /usr/local/lib/python3.7/dist-packages (from Jinja2<3.0,>=2.10.1->Flask>=0.8->flask-ngrok) (2.0.1)\n",
            "Requirement already satisfied: chardet<4,>=3.0.2 in /usr/local/lib/python3.7/dist-packages (from requests->flask-ngrok) (3.0.4)\n",
            "Requirement already satisfied: certifi>=2017.4.17 in /usr/local/lib/python3.7/dist-packages (from requests->flask-ngrok) (2022.5.18.1)\n",
            "Requirement already satisfied: urllib3!=1.25.0,!=1.25.1,<1.26,>=1.21.1 in /usr/local/lib/python3.7/dist-packages (from requests->flask-ngrok) (1.24.3)\n",
            "Requirement already satisfied: idna<3,>=2.5 in /usr/local/lib/python3.7/dist-packages (from requests->flask-ngrok) (2.10)\n",
            "Installing collected packages: flask-ngrok\n",
            "Successfully installed flask-ngrok-0.0.25\n"
          ]
        }
      ],
      "source": [
        "# installing required packages\n",
        "! pip install pyspark\n",
        "! pip install flask-ngrok"
      ]
    },
    {
      "cell_type": "code",
      "execution_count": null,
      "metadata": {
        "id": "_se2W_Es7z-C"
      },
      "outputs": [],
      "source": [
        "#importing required packages\n",
        "from pyspark.sql import SparkSession\n",
        "# importing to build a ML pipeline\n",
        "from pyspark.ml import Pipeline\n",
        "from pyspark.ml.feature import  VectorAssembler\n",
        "from pyspark.ml.classification import LogisticRegression\n",
        "from pyspark.ml.classification import DecisionTreeClassifier\n",
        "from pyspark.ml.classification import RandomForestClassifier\n",
        "from pyspark.ml.classification import GBTClassifier\n",
        "from pyspark.ml.evaluation import BinaryClassificationEvaluator\n",
        "\n",
        "# importing pandas and numpy to find corellations between variables\n",
        "import pandas as pd\n",
        "import numpy as np\n",
        "# matplot lib\n",
        "from matplotlib import pyplot as plt\n",
        "#flask app\n",
        "from flask_ngrok import run_with_ngrok\n",
        "from flask import Flask\n",
        "# grid search and hyper param tuning\n",
        "from pyspark.ml.tuning import ParamGridBuilder\n",
        "from pyspark.ml.tuning import TrainValidationSplit\n",
        "from pyspark.ml.evaluation import MulticlassClassificationEvaluator\n",
        " "
      ]
    },
    {
      "cell_type": "markdown",
      "metadata": {
        "id": "PZwWEx0uYMFt"
      },
      "source": [
        "### Creating a spark session"
      ]
    },
    {
      "cell_type": "code",
      "execution_count": null,
      "metadata": {
        "id": "0eOJZ7IfW0Yh"
      },
      "outputs": [],
      "source": [
        "# creating a spark session\n",
        "spark = SparkSession.builder.appName('ml-project').getOrCreate()"
      ]
    },
    {
      "cell_type": "markdown",
      "metadata": {
        "id": "zTcjbxXcYPaC"
      },
      "source": [
        "### Loading the data"
      ]
    },
    {
      "cell_type": "code",
      "execution_count": null,
      "metadata": {
        "colab": {
          "base_uri": "https://localhost:8080/"
        },
        "id": "UcbNcY9oSJHs",
        "outputId": "c5a1fdc3-21b7-4cd4-fd33-b427ae731738"
      },
      "outputs": [
        {
          "name": "stdout",
          "output_type": "stream",
          "text": [
            "Mounted at /content/drive\n"
          ]
        }
      ],
      "source": [
        "# Linking google drive\n",
        "from google.colab import drive\n",
        "drive.mount('/content/drive')"
      ]
    },
    {
      "cell_type": "code",
      "execution_count": null,
      "metadata": {
        "colab": {
          "base_uri": "https://localhost:8080/"
        },
        "id": "STXbB2PYSKSD",
        "outputId": "fd479730-c78a-4f04-b2f0-f49b7fc9e2e7"
      },
      "outputs": [
        {
          "name": "stdout",
          "output_type": "stream",
          "text": [
            "root\n",
            " |-- age: integer (nullable = true)\n",
            " |-- sex: integer (nullable = true)\n",
            " |-- chest pain type: integer (nullable = true)\n",
            " |-- resting bp s: integer (nullable = true)\n",
            " |-- cholesterol: integer (nullable = true)\n",
            " |-- fasting blood sugar: integer (nullable = true)\n",
            " |-- resting ecg: integer (nullable = true)\n",
            " |-- max heart rate: integer (nullable = true)\n",
            " |-- exercise angina: integer (nullable = true)\n",
            " |-- oldpeak: double (nullable = true)\n",
            " |-- ST slope: integer (nullable = true)\n",
            " |-- target: integer (nullable = true)\n",
            "\n"
          ]
        }
      ],
      "source": [
        "# Reading the data \n",
        "df = spark.read.csv(\"/content/drive/My Drive/heart_statlog_cleveland_hungary_final.csv\", header = True, inferSchema = True)\n",
        "df.printSchema()"
      ]
    },
    {
      "cell_type": "code",
      "execution_count": null,
      "metadata": {
        "colab": {
          "base_uri": "https://localhost:8080/"
        },
        "id": "tTH0jtUuR0DL",
        "outputId": "fc78c14b-17cc-4eb1-de6c-e9b7238492dc"
      },
      "outputs": [
        {
          "name": "stdout",
          "output_type": "stream",
          "text": [
            "+---+---+---------------+------------+-----------+-------------------+-----------+--------------+---------------+-------+--------+------+\n",
            "|age|sex|chest pain type|resting bp s|cholesterol|fasting blood sugar|resting ecg|max heart rate|exercise angina|oldpeak|ST slope|target|\n",
            "+---+---+---------------+------------+-----------+-------------------+-----------+--------------+---------------+-------+--------+------+\n",
            "| 40|  1|              2|         140|        289|                  0|          0|           172|              0|    0.0|       1|     0|\n",
            "| 49|  0|              3|         160|        180|                  0|          0|           156|              0|    1.0|       2|     1|\n",
            "| 37|  1|              2|         130|        283|                  0|          1|            98|              0|    0.0|       1|     0|\n",
            "| 48|  0|              4|         138|        214|                  0|          0|           108|              1|    1.5|       2|     1|\n",
            "| 54|  1|              3|         150|        195|                  0|          0|           122|              0|    0.0|       1|     0|\n",
            "+---+---+---------------+------------+-----------+-------------------+-----------+--------------+---------------+-------+--------+------+\n",
            "only showing top 5 rows\n",
            "\n"
          ]
        }
      ],
      "source": [
        "# Lets have a quick look into the data\n",
        "df.show(5)"
      ]
    },
    {
      "cell_type": "markdown",
      "metadata": {
        "id": "BczYIKASYVLg"
      },
      "source": [
        "### EDA"
      ]
    },
    {
      "cell_type": "code",
      "execution_count": null,
      "metadata": {
        "colab": {
          "base_uri": "https://localhost:8080/",
          "height": 426
        },
        "id": "SD9uhYrNWWD_",
        "outputId": "631041f4-c80c-46c9-82f3-6ee1e0109083"
      },
      "outputs": [
        {
          "data": {
            "text/html": [
              "\n",
              "  <div id=\"df-f3fc46ff-2cbf-48b5-a9d1-2be02ccebdbe\">\n",
              "    <div class=\"colab-df-container\">\n",
              "      <div>\n",
              "<style scoped>\n",
              "    .dataframe tbody tr th:only-of-type {\n",
              "        vertical-align: middle;\n",
              "    }\n",
              "\n",
              "    .dataframe tbody tr th {\n",
              "        vertical-align: top;\n",
              "    }\n",
              "\n",
              "    .dataframe thead th {\n",
              "        text-align: right;\n",
              "    }\n",
              "</style>\n",
              "<table border=\"1\" class=\"dataframe\">\n",
              "  <thead>\n",
              "    <tr style=\"text-align: right;\">\n",
              "      <th></th>\n",
              "      <th>0</th>\n",
              "      <th>1</th>\n",
              "      <th>2</th>\n",
              "      <th>3</th>\n",
              "      <th>4</th>\n",
              "    </tr>\n",
              "  </thead>\n",
              "  <tbody>\n",
              "    <tr>\n",
              "      <th>summary</th>\n",
              "      <td>count</td>\n",
              "      <td>mean</td>\n",
              "      <td>stddev</td>\n",
              "      <td>min</td>\n",
              "      <td>max</td>\n",
              "    </tr>\n",
              "    <tr>\n",
              "      <th>age</th>\n",
              "      <td>1190</td>\n",
              "      <td>53.72016806722689</td>\n",
              "      <td>9.358202797635384</td>\n",
              "      <td>28</td>\n",
              "      <td>77</td>\n",
              "    </tr>\n",
              "    <tr>\n",
              "      <th>sex</th>\n",
              "      <td>1190</td>\n",
              "      <td>0.7638655462184873</td>\n",
              "      <td>0.4248843096754766</td>\n",
              "      <td>0</td>\n",
              "      <td>1</td>\n",
              "    </tr>\n",
              "    <tr>\n",
              "      <th>chest pain type</th>\n",
              "      <td>1190</td>\n",
              "      <td>3.2327731092436975</td>\n",
              "      <td>0.9354803611453995</td>\n",
              "      <td>1</td>\n",
              "      <td>4</td>\n",
              "    </tr>\n",
              "    <tr>\n",
              "      <th>resting bp s</th>\n",
              "      <td>1190</td>\n",
              "      <td>132.15378151260504</td>\n",
              "      <td>18.36882341526594</td>\n",
              "      <td>0</td>\n",
              "      <td>200</td>\n",
              "    </tr>\n",
              "    <tr>\n",
              "      <th>cholesterol</th>\n",
              "      <td>1190</td>\n",
              "      <td>210.36386554621848</td>\n",
              "      <td>101.42048904518877</td>\n",
              "      <td>0</td>\n",
              "      <td>603</td>\n",
              "    </tr>\n",
              "    <tr>\n",
              "      <th>fasting blood sugar</th>\n",
              "      <td>1190</td>\n",
              "      <td>0.2134453781512605</td>\n",
              "      <td>0.40991175684733056</td>\n",
              "      <td>0</td>\n",
              "      <td>1</td>\n",
              "    </tr>\n",
              "    <tr>\n",
              "      <th>resting ecg</th>\n",
              "      <td>1190</td>\n",
              "      <td>0.6983193277310924</td>\n",
              "      <td>0.870358837985284</td>\n",
              "      <td>0</td>\n",
              "      <td>2</td>\n",
              "    </tr>\n",
              "    <tr>\n",
              "      <th>max heart rate</th>\n",
              "      <td>1190</td>\n",
              "      <td>139.7327731092437</td>\n",
              "      <td>25.51763554898286</td>\n",
              "      <td>60</td>\n",
              "      <td>202</td>\n",
              "    </tr>\n",
              "    <tr>\n",
              "      <th>exercise angina</th>\n",
              "      <td>1190</td>\n",
              "      <td>0.3873949579831933</td>\n",
              "      <td>0.4873599295179118</td>\n",
              "      <td>0</td>\n",
              "      <td>1</td>\n",
              "    </tr>\n",
              "    <tr>\n",
              "      <th>ST slope</th>\n",
              "      <td>1190</td>\n",
              "      <td>1.6243697478991597</td>\n",
              "      <td>0.6104592139541629</td>\n",
              "      <td>0</td>\n",
              "      <td>3</td>\n",
              "    </tr>\n",
              "    <tr>\n",
              "      <th>target</th>\n",
              "      <td>1190</td>\n",
              "      <td>0.5285714285714286</td>\n",
              "      <td>0.4993928790311864</td>\n",
              "      <td>0</td>\n",
              "      <td>1</td>\n",
              "    </tr>\n",
              "  </tbody>\n",
              "</table>\n",
              "</div>\n",
              "      <button class=\"colab-df-convert\" onclick=\"convertToInteractive('df-f3fc46ff-2cbf-48b5-a9d1-2be02ccebdbe')\"\n",
              "              title=\"Convert this dataframe to an interactive table.\"\n",
              "              style=\"display:none;\">\n",
              "        \n",
              "  <svg xmlns=\"http://www.w3.org/2000/svg\" height=\"24px\"viewBox=\"0 0 24 24\"\n",
              "       width=\"24px\">\n",
              "    <path d=\"M0 0h24v24H0V0z\" fill=\"none\"/>\n",
              "    <path d=\"M18.56 5.44l.94 2.06.94-2.06 2.06-.94-2.06-.94-.94-2.06-.94 2.06-2.06.94zm-11 1L8.5 8.5l.94-2.06 2.06-.94-2.06-.94L8.5 2.5l-.94 2.06-2.06.94zm10 10l.94 2.06.94-2.06 2.06-.94-2.06-.94-.94-2.06-.94 2.06-2.06.94z\"/><path d=\"M17.41 7.96l-1.37-1.37c-.4-.4-.92-.59-1.43-.59-.52 0-1.04.2-1.43.59L10.3 9.45l-7.72 7.72c-.78.78-.78 2.05 0 2.83L4 21.41c.39.39.9.59 1.41.59.51 0 1.02-.2 1.41-.59l7.78-7.78 2.81-2.81c.8-.78.8-2.07 0-2.86zM5.41 20L4 18.59l7.72-7.72 1.47 1.35L5.41 20z\"/>\n",
              "  </svg>\n",
              "      </button>\n",
              "      \n",
              "  <style>\n",
              "    .colab-df-container {\n",
              "      display:flex;\n",
              "      flex-wrap:wrap;\n",
              "      gap: 12px;\n",
              "    }\n",
              "\n",
              "    .colab-df-convert {\n",
              "      background-color: #E8F0FE;\n",
              "      border: none;\n",
              "      border-radius: 50%;\n",
              "      cursor: pointer;\n",
              "      display: none;\n",
              "      fill: #1967D2;\n",
              "      height: 32px;\n",
              "      padding: 0 0 0 0;\n",
              "      width: 32px;\n",
              "    }\n",
              "\n",
              "    .colab-df-convert:hover {\n",
              "      background-color: #E2EBFA;\n",
              "      box-shadow: 0px 1px 2px rgba(60, 64, 67, 0.3), 0px 1px 3px 1px rgba(60, 64, 67, 0.15);\n",
              "      fill: #174EA6;\n",
              "    }\n",
              "\n",
              "    [theme=dark] .colab-df-convert {\n",
              "      background-color: #3B4455;\n",
              "      fill: #D2E3FC;\n",
              "    }\n",
              "\n",
              "    [theme=dark] .colab-df-convert:hover {\n",
              "      background-color: #434B5C;\n",
              "      box-shadow: 0px 1px 3px 1px rgba(0, 0, 0, 0.15);\n",
              "      filter: drop-shadow(0px 1px 2px rgba(0, 0, 0, 0.3));\n",
              "      fill: #FFFFFF;\n",
              "    }\n",
              "  </style>\n",
              "\n",
              "      <script>\n",
              "        const buttonEl =\n",
              "          document.querySelector('#df-f3fc46ff-2cbf-48b5-a9d1-2be02ccebdbe button.colab-df-convert');\n",
              "        buttonEl.style.display =\n",
              "          google.colab.kernel.accessAllowed ? 'block' : 'none';\n",
              "\n",
              "        async function convertToInteractive(key) {\n",
              "          const element = document.querySelector('#df-f3fc46ff-2cbf-48b5-a9d1-2be02ccebdbe');\n",
              "          const dataTable =\n",
              "            await google.colab.kernel.invokeFunction('convertToInteractive',\n",
              "                                                     [key], {});\n",
              "          if (!dataTable) return;\n",
              "\n",
              "          const docLinkHtml = 'Like what you see? Visit the ' +\n",
              "            '<a target=\"_blank\" href=https://colab.research.google.com/notebooks/data_table.ipynb>data table notebook</a>'\n",
              "            + ' to learn more about interactive tables.';\n",
              "          element.innerHTML = '';\n",
              "          dataTable['output_type'] = 'display_data';\n",
              "          await google.colab.output.renderOutput(dataTable, element);\n",
              "          const docLink = document.createElement('div');\n",
              "          docLink.innerHTML = docLinkHtml;\n",
              "          element.appendChild(docLink);\n",
              "        }\n",
              "      </script>\n",
              "    </div>\n",
              "  </div>\n",
              "  "
            ],
            "text/plain": [
              "                         0                   1                    2    3    4\n",
              "summary              count                mean               stddev  min  max\n",
              "age                   1190   53.72016806722689    9.358202797635384   28   77\n",
              "sex                   1190  0.7638655462184873   0.4248843096754766    0    1\n",
              "chest pain type       1190  3.2327731092436975   0.9354803611453995    1    4\n",
              "resting bp s          1190  132.15378151260504    18.36882341526594    0  200\n",
              "cholesterol           1190  210.36386554621848   101.42048904518877    0  603\n",
              "fasting blood sugar   1190  0.2134453781512605  0.40991175684733056    0    1\n",
              "resting ecg           1190  0.6983193277310924    0.870358837985284    0    2\n",
              "max heart rate        1190   139.7327731092437    25.51763554898286   60  202\n",
              "exercise angina       1190  0.3873949579831933   0.4873599295179118    0    1\n",
              "ST slope              1190  1.6243697478991597   0.6104592139541629    0    3\n",
              "target                1190  0.5285714285714286   0.4993928790311864    0    1"
            ]
          },
          "execution_count": 8,
          "metadata": {},
          "output_type": "execute_result"
        }
      ],
      "source": [
        "# Summary of the data \n",
        "numeric_features = [t[0] for t in df.dtypes if t[1] == 'int']\n",
        "df.select(numeric_features).describe().toPandas().transpose()"
      ]
    },
    {
      "cell_type": "code",
      "execution_count": null,
      "metadata": {
        "colab": {
          "base_uri": "https://localhost:8080/",
          "height": 566
        },
        "id": "24h3S0KSWi31",
        "outputId": "c77339e5-8c00-44cb-8a8e-1540367f987f"
      },
      "outputs": [
        {
          "data": {
            "image/png": "[encoded data removed]",
            "text/plain": [
              "<Figure size 576x576 with 121 Axes>"
            ]
          },
          "metadata": {},
          "output_type": "display_data"
        }
      ],
      "source": [
        "# Lets check the corellation between variables\n",
        "# a plot of distributions\n",
        "numeric_data = df.select(numeric_features).toPandas()\n",
        "axs = pd.plotting.scatter_matrix(numeric_data, figsize=(8, 8));\n",
        "n = len(numeric_data.columns)\n",
        "for i in range(n):\n",
        "    v = axs[i, 0]\n",
        "    v.yaxis.label.set_rotation(0)\n",
        "    v.yaxis.label.set_ha('right')\n",
        "    v.set_yticks(())\n",
        "    h = axs[n-1, i]\n",
        "    h.xaxis.label.set_rotation(90)\n",
        "    h.set_xticks(())"
      ]
    },
    {
      "cell_type": "markdown",
      "metadata": {
        "id": "d-W8V-7HXsne"
      },
      "source": [
        "### Data Prepatation"
      ]
    },
    {
      "cell_type": "markdown",
      "metadata": {
        "id": "BavX6phyYmCZ"
      },
      "source": [
        "**Note**\n",
        "* All the categorical variables are already encoded using one-hot encoding, so we dont need to clean those."
      ]
    },
    {
      "cell_type": "code",
      "execution_count": null,
      "metadata": {
        "colab": {
          "base_uri": "https://localhost:8080/"
        },
        "id": "U5KBTN2gbDwN",
        "outputId": "79e7aef7-7a02-4ed7-ebfb-b04a5124c9b1"
      },
      "outputs": [
        {
          "data": {
            "text/plain": [
              "['age',\n",
              " 'sex',\n",
              " 'chest pain type',\n",
              " 'resting bp s',\n",
              " 'cholesterol',\n",
              " 'fasting blood sugar',\n",
              " 'resting ecg',\n",
              " 'max heart rate',\n",
              " 'exercise angina',\n",
              " 'oldpeak',\n",
              " 'ST slope']"
            ]
          },
          "execution_count": 10,
          "metadata": {},
          "output_type": "execute_result"
        }
      ],
      "source": [
        "# Columns names in the test data set\n",
        "column_names =  df.columns\n",
        "column_names.pop()\n",
        "column_names"
      ]
    },
    {
      "cell_type": "code",
      "execution_count": null,
      "metadata": {
        "id": "iKUv3kF2Zr4l"
      },
      "outputs": [],
      "source": [
        "# creating stages for the pipeline\n",
        "stages=[]\n",
        "assembler = VectorAssembler(inputCols=column_names, outputCol=\"features\")\n",
        "stages += [assembler]"
      ]
    },
    {
      "cell_type": "markdown",
      "metadata": {
        "id": "NzAZtmmTZNq7"
      },
      "source": [
        "### ML pipeline"
      ]
    },
    {
      "cell_type": "code",
      "execution_count": null,
      "metadata": {
        "id": "SQ9B3-Y-XhCG"
      },
      "outputs": [],
      "source": [
        "# Creating a pipeline for the ML model\n",
        "pipeline = Pipeline(stages = stages)\n",
        "pipelineModel = pipeline.fit(df)\n",
        "df = pipelineModel.transform(df)"
      ]
    },
    {
      "cell_type": "code",
      "execution_count": null,
      "metadata": {
        "colab": {
          "base_uri": "https://localhost:8080/"
        },
        "id": "Ft0N9a6KatbW",
        "outputId": "51ed41e8-e39f-4e6c-f5b3-a66a6194de9e"
      },
      "outputs": [
        {
          "name": "stdout",
          "output_type": "stream",
          "text": [
            "root\n",
            " |-- target: integer (nullable = true)\n",
            " |-- features: vector (nullable = true)\n",
            " |-- age: integer (nullable = true)\n",
            " |-- sex: integer (nullable = true)\n",
            " |-- chest pain type: integer (nullable = true)\n",
            " |-- resting bp s: integer (nullable = true)\n",
            " |-- cholesterol: integer (nullable = true)\n",
            " |-- fasting blood sugar: integer (nullable = true)\n",
            " |-- resting ecg: integer (nullable = true)\n",
            " |-- max heart rate: integer (nullable = true)\n",
            " |-- exercise angina: integer (nullable = true)\n",
            " |-- oldpeak: double (nullable = true)\n",
            " |-- ST slope: integer (nullable = true)\n",
            "\n"
          ]
        }
      ],
      "source": [
        "# Selecting required columns\n",
        "selectedCols = ['target','features'] + column_names\n",
        "df = df.select(selectedCols)\n",
        "df.printSchema()"
      ]
    },
    {
      "cell_type": "code",
      "execution_count": null,
      "metadata": {
        "colab": {
          "base_uri": "https://localhost:8080/"
        },
        "id": "u-hqQLwmavrS",
        "outputId": "57f3a464-7b54-4922-c50a-9bba79a8da00"
      },
      "outputs": [
        {
          "name": "stdout",
          "output_type": "stream",
          "text": [
            "+------+--------------------+---+---+---------------+------------+-----------+-------------------+-----------+--------------+---------------+-------+--------+\n",
            "|target|            features|age|sex|chest pain type|resting bp s|cholesterol|fasting blood sugar|resting ecg|max heart rate|exercise angina|oldpeak|ST slope|\n",
            "+------+--------------------+---+---+---------------+------------+-----------+-------------------+-----------+--------------+---------------+-------+--------+\n",
            "|     0|[40.0,1.0,2.0,140...| 40|  1|              2|         140|        289|                  0|          0|           172|              0|    0.0|       1|\n",
            "|     1|[49.0,0.0,3.0,160...| 49|  0|              3|         160|        180|                  0|          0|           156|              0|    1.0|       2|\n",
            "|     0|[37.0,1.0,2.0,130...| 37|  1|              2|         130|        283|                  0|          1|            98|              0|    0.0|       1|\n",
            "|     1|[48.0,0.0,4.0,138...| 48|  0|              4|         138|        214|                  0|          0|           108|              1|    1.5|       2|\n",
            "|     0|[54.0,1.0,3.0,150...| 54|  1|              3|         150|        195|                  0|          0|           122|              0|    0.0|       1|\n",
            "+------+--------------------+---+---+---------------+------------+-----------+-------------------+-----------+--------------+---------------+-------+--------+\n",
            "only showing top 5 rows\n",
            "\n"
          ]
        }
      ],
      "source": [
        "df.show(5)"
      ]
    },
    {
      "cell_type": "markdown",
      "metadata": {
        "id": "cLQjDgwsbTXz"
      },
      "source": [
        "### Train - Test split"
      ]
    },
    {
      "cell_type": "code",
      "execution_count": null,
      "metadata": {
        "colab": {
          "base_uri": "https://localhost:8080/"
        },
        "id": "IBdI3MQla3ie",
        "outputId": "eb6b4910-4b81-45c2-fb18-d85af1f6ad92"
      },
      "outputs": [
        {
          "name": "stdout",
          "output_type": "stream",
          "text": [
            "Training Dataset Count: 841\n",
            "Test Dataset Count: 349\n"
          ]
        }
      ],
      "source": [
        "# Doing a test/train split\n",
        "train, test = df.randomSplit([0.7, 0.3], seed = 28)\n",
        "print(\"Training Dataset Count: \" + str(train.count()))\n",
        "print(\"Test Dataset Count: \" + str(test.count()))"
      ]
    },
    {
      "cell_type": "markdown",
      "metadata": {
        "id": "1-s89YOTba-r"
      },
      "source": [
        "# Logistic regression"
      ]
    },
    {
      "cell_type": "code",
      "execution_count": null,
      "metadata": {
        "id": "gVaAnra3bYHr"
      },
      "outputs": [],
      "source": [
        "# Creating a logistic regression and training \n",
        "lr = LogisticRegression(featuresCol = 'features', labelCol = 'target', maxIter=100)\n",
        "lrModel = lr.fit(train)"
      ]
    },
    {
      "cell_type": "code",
      "execution_count": null,
      "metadata": {
        "colab": {
          "base_uri": "https://localhost:8080/",
          "height": 265
        },
        "id": "SSoo9hx6cAnB",
        "outputId": "ec45c44b-b20c-44e2-c785-aa66a722d7ea"
      },
      "outputs": [
        {
          "data": {
            "image/png": "[encoded data removed]",
            "text/plain": [
              "<Figure size 432x288 with 1 Axes>"
            ]
          },
          "metadata": {},
          "output_type": "display_data"
        }
      ],
      "source": [
        "#coefficients of the independent variables\n",
        "beta = np.sort(lrModel.coefficients)\n",
        "plt.plot(beta)\n",
        "plt.ylabel('Beta Coefficients')\n",
        "plt.show()"
      ]
    },
    {
      "cell_type": "code",
      "execution_count": null,
      "metadata": {
        "colab": {
          "base_uri": "https://localhost:8080/",
          "height": 369
        },
        "id": "864aRLsMbwog",
        "outputId": "93084508-143f-4e00-a393-95dc83f6a0e7"
      },
      "outputs": [
        {
          "name": "stderr",
          "output_type": "stream",
          "text": [
            "/usr/local/lib/python3.7/dist-packages/pyspark/sql/context.py:127: FutureWarning: Deprecated in 3.0.0. Use SparkSession.builder.getOrCreate() instead.\n",
            "  FutureWarning\n"
          ]
        },
        {
          "data": {
            "image/png": "[encoded data removed]",
            "text/plain": [
              "<Figure size 432x288 with 1 Axes>"
            ]
          },
          "metadata": {},
          "output_type": "display_data"
        },
        {
          "name": "stdout",
          "output_type": "stream",
          "text": [
            "Training set areaUnderROC: 0.9181281256364434\n"
          ]
        }
      ],
      "source": [
        "# ROC curve\n",
        "trainingSummary = lrModel.summary\n",
        "roc = trainingSummary.roc.toPandas()\n",
        "plt.plot(roc['FPR'],roc['TPR'])\n",
        "plt.ylabel('False Positive Rate')\n",
        "plt.xlabel('True Positive Rate')\n",
        "plt.title('ROC Curve')\n",
        "plt.show()\n",
        "print('Training set areaUnderROC: ' + str(trainingSummary.areaUnderROC))"
      ]
    },
    {
      "cell_type": "code",
      "execution_count": null,
      "metadata": {
        "colab": {
          "base_uri": "https://localhost:8080/",
          "height": 335
        },
        "id": "e8crJqn9dbjo",
        "outputId": "9ad57c62-3b63-4a23-d072-5d9b6ed29efd"
      },
      "outputs": [
        {
          "name": "stderr",
          "output_type": "stream",
          "text": [
            "/usr/local/lib/python3.7/dist-packages/pyspark/sql/context.py:127: FutureWarning: Deprecated in 3.0.0. Use SparkSession.builder.getOrCreate() instead.\n",
            "  FutureWarning\n"
          ]
        },
        {
          "data": {
            "image/png": "[encoded data removed]",
            "text/plain": [
              "<Figure size 432x288 with 1 Axes>"
            ]
          },
          "metadata": {},
          "output_type": "display_data"
        }
      ],
      "source": [
        "# Precision vs recall curve \n",
        "pr = trainingSummary.pr.toPandas()\n",
        "plt.plot(pr['recall'],pr['precision'])\n",
        "plt.ylabel('Precision')\n",
        "plt.xlabel('Recall')\n",
        "plt.show()"
      ]
    },
    {
      "cell_type": "code",
      "execution_count": null,
      "metadata": {
        "colab": {
          "base_uri": "https://localhost:8080/"
        },
        "id": "40a4mPytdftW",
        "outputId": "42dfdf13-2a18-4e0b-c111-bce3ac0b0e89"
      },
      "outputs": [
        {
          "name": "stdout",
          "output_type": "stream",
          "text": [
            "+------+--------------------+---+---+---------------+------------+-----------+-------------------+-----------+--------------+---------------+-------+--------+--------------------+--------------------+----------+\n",
            "|target|            features|age|sex|chest pain type|resting bp s|cholesterol|fasting blood sugar|resting ecg|max heart rate|exercise angina|oldpeak|ST slope|       rawPrediction|         probability|prediction|\n",
            "+------+--------------------+---+---+---------------+------------+-----------+-------------------+-----------+--------------+---------------+-------+--------+--------------------+--------------------+----------+\n",
            "|     0|(11,[0,1,2,3,7,10...| 51|  1|              4|         128|          0|                  0|          0|           107|              0|    0.0|       1|[0.06705584947196...|[0.51675768361304...|       0.0|\n",
            "|     0|(11,[0,2,3,4,7,10...| 32|  0|              2|         105|        198|                  0|          0|           165|              0|    0.0|       1|[4.61559369813986...|[0.99020067091768...|       0.0|\n",
            "|     0|(11,[0,2,3,4,7,10...| 34|  0|              2|         130|        161|                  0|          0|           190|              0|    0.0|       1|[4.79309440338883...|[0.99178133121746...|       0.0|\n",
            "|     0|(11,[0,2,3,4,7,10...| 35|  0|              4|         140|        167|                  0|          0|           150|              0|    0.0|       1|[2.71561922155941...|[0.93794203141870...|       0.0|\n",
            "|     0|(11,[0,2,3,4,7,10...| 37|  0|              3|         120|        215|                  0|          0|           170|              0|    0.0|       1|[3.82681114048437...|[0.97868525777046...|       0.0|\n",
            "|     0|(11,[0,2,3,4,7,10...| 39|  0|              3|          94|        199|                  0|          0|           179|              0|    0.0|       1|[3.84800543188480...|[0.97912292300561...|       0.0|\n",
            "|     0|(11,[0,2,3,4,7,10...| 41|  0|              2|         126|        306|                  0|          0|           163|              0|    0.0|       1|[4.69941194455954...|[0.99098144728436...|       0.0|\n",
            "|     0|(11,[0,2,3,4,7,10...| 43|  0|              1|         100|        223|                  0|          0|           142|              0|    0.0|       1|[5.01224652971833...|[0.99338807479130...|       0.0|\n",
            "|     0|(11,[0,2,3,4,7,10...| 45|  0|              2|         112|        160|                  0|          0|           138|              0|    0.0|       2|[2.73193855041354...|[0.93888516552077...|       0.0|\n",
            "|     0|(11,[0,2,3,4,7,10...| 49|  0|              2|         134|        271|                  0|          0|           162|              0|    0.0|       2|[3.21745410633352...|[0.96148584867575...|       0.0|\n",
            "+------+--------------------+---+---+---------------+------------+-----------+-------------------+-----------+--------------+---------------+-------+--------+--------------------+--------------------+----------+\n",
            "only showing top 10 rows\n",
            "\n"
          ]
        }
      ],
      "source": [
        "# Predictions\n",
        "predictions = lrModel.transform(test)\n",
        "predictions.show(10)"
      ]
    },
    {
      "cell_type": "code",
      "execution_count": null,
      "metadata": {
        "colab": {
          "base_uri": "https://localhost:8080/"
        },
        "id": "kWqMAkEudjaQ",
        "outputId": "6f2aae58-47f3-4719-c6a3-ea248ad999d2"
      },
      "outputs": [
        {
          "name": "stdout",
          "output_type": "stream",
          "text": [
            "Test Area Under ROC 0.8738402581686164\n"
          ]
        }
      ],
      "source": [
        "# Area under the ROC\n",
        "evaluator = BinaryClassificationEvaluator( labelCol= 'target')\n",
        "print('Test Area Under ROC', evaluator.evaluate(predictions))"
      ]
    },
    {
      "cell_type": "code",
      "execution_count": null,
      "metadata": {
        "id": "bUOFHAW9SUaW"
      },
      "outputs": [],
      "source": [
        "# Creating predictions\n",
        "y_pred = predictions.select('prediction')\n",
        "y_test = predictions.select('target')"
      ]
    },
    {
      "cell_type": "code",
      "execution_count": null,
      "metadata": {
        "colab": {
          "base_uri": "https://localhost:8080/"
        },
        "id": "RgU5lHHhTxKe",
        "outputId": "ff8bb2f2-7ed6-4bb1-eb0c-af640ca16a40"
      },
      "outputs": [
        {
          "name": "stdout",
          "output_type": "stream",
          "text": [
            "Accuracy -  0.83109243697479\n",
            "Precision -  0.8462783171521036\n",
            "Recall -  0.8314785373608903\n",
            "F1 Score -  0.8388131515637531\n"
          ]
        }
      ],
      "source": [
        "# Evaluating the model (recall, precision and acurracy )\n",
        "from sklearn.metrics import accuracy_score, precision_score, recall_score, roc_auc_score, f1_score\n",
        "predictionAndTarget = lrModel.transform(df).select(\"target\", \"prediction\")\n",
        "\n",
        "predictionAndTarget = np.array((predictionAndTarget.collect()))\n",
        "\n",
        "acc = accuracy_score(predictionAndTarget[:,0], predictionAndTarget[:,1])\n",
        "f1 = f1_score(predictionAndTarget[:,0], predictionAndTarget[:,1])\n",
        "precision = precision_score(predictionAndTarget[:,0], predictionAndTarget[:,1])\n",
        "recall = recall_score(predictionAndTarget[:,0], predictionAndTarget[:,1])\n",
        "\n",
        "print(\"Accuracy - \", acc)\n",
        "print(\"Precision - \", precision)\n",
        "print(\"Recall - \", recall)\n",
        "print(\"F1 Score - \", f1)"
      ]
    },
    {
      "cell_type": "markdown",
      "metadata": {
        "id": "12SnOYSYeaxg"
      },
      "source": [
        "# Decision Tree"
      ]
    },
    {
      "cell_type": "code",
      "execution_count": null,
      "metadata": {
        "colab": {
          "base_uri": "https://localhost:8080/"
        },
        "id": "E1c8ujOXeYaz",
        "outputId": "7058713e-fea4-4f46-9c02-3d29e230bf76"
      },
      "outputs": [
        {
          "name": "stdout",
          "output_type": "stream",
          "text": [
            "+------+--------------------+---+---+---------------+------------+-----------+-------------------+-----------+--------------+---------------+-------+--------+-------------+--------------------+----------+\n",
            "|target|            features|age|sex|chest pain type|resting bp s|cholesterol|fasting blood sugar|resting ecg|max heart rate|exercise angina|oldpeak|ST slope|rawPrediction|         probability|prediction|\n",
            "+------+--------------------+---+---+---------------+------------+-----------+-------------------+-----------+--------------+---------------+-------+--------+-------------+--------------------+----------+\n",
            "|     0|(11,[0,1,2,3,7,10...| 51|  1|              4|         128|          0|                  0|          0|           107|              0|    0.0|       1|    [1.0,7.0]|       [0.125,0.875]|       1.0|\n",
            "|     0|(11,[0,2,3,4,7,10...| 32|  0|              2|         105|        198|                  0|          0|           165|              0|    0.0|       1|  [246.0,9.0]|[0.96470588235294...|       0.0|\n",
            "|     0|(11,[0,2,3,4,7,10...| 34|  0|              2|         130|        161|                  0|          0|           190|              0|    0.0|       1|  [246.0,9.0]|[0.96470588235294...|       0.0|\n",
            "|     0|(11,[0,2,3,4,7,10...| 35|  0|              4|         140|        167|                  0|          0|           150|              0|    0.0|       1|    [3.0,1.0]|         [0.75,0.25]|       0.0|\n",
            "|     0|(11,[0,2,3,4,7,10...| 37|  0|              3|         120|        215|                  0|          0|           170|              0|    0.0|       1|  [246.0,9.0]|[0.96470588235294...|       0.0|\n",
            "|     0|(11,[0,2,3,4,7,10...| 39|  0|              3|          94|        199|                  0|          0|           179|              0|    0.0|       1|  [246.0,9.0]|[0.96470588235294...|       0.0|\n",
            "|     0|(11,[0,2,3,4,7,10...| 41|  0|              2|         126|        306|                  0|          0|           163|              0|    0.0|       1|  [246.0,9.0]|[0.96470588235294...|       0.0|\n",
            "|     0|(11,[0,2,3,4,7,10...| 43|  0|              1|         100|        223|                  0|          0|           142|              0|    0.0|       1|  [246.0,9.0]|[0.96470588235294...|       0.0|\n",
            "|     0|(11,[0,2,3,4,7,10...| 45|  0|              2|         112|        160|                  0|          0|           138|              0|    0.0|       2|   [8.0,10.0]|[0.44444444444444...|       1.0|\n",
            "|     0|(11,[0,2,3,4,7,10...| 49|  0|              2|         134|        271|                  0|          0|           162|              0|    0.0|       2|   [37.0,9.0]|[0.80434782608695...|       0.0|\n",
            "+------+--------------------+---+---+---------------+------------+-----------+-------------------+-----------+--------------+---------------+-------+--------+-------------+--------------------+----------+\n",
            "only showing top 10 rows\n",
            "\n"
          ]
        }
      ],
      "source": [
        "# Instantiating a Decision tree and training it\n",
        "dt = DecisionTreeClassifier(featuresCol = 'features', labelCol = 'target', maxDepth = 5)\n",
        "dtModel = dt.fit(train)\n",
        "predictions = dtModel.transform(test)\n",
        "predictions.show(10)"
      ]
    },
    {
      "cell_type": "code",
      "execution_count": null,
      "metadata": {
        "colab": {
          "base_uri": "https://localhost:8080/"
        },
        "id": "veMMLTzue7Sj",
        "outputId": "47041d78-41c0-4fe5-e742-b45bf120840a"
      },
      "outputs": [
        {
          "name": "stdout",
          "output_type": "stream",
          "text": [
            "Test Area Under ROC: 0.8224418448299046\n"
          ]
        }
      ],
      "source": [
        "# Area under the ROC\n",
        "evaluator = BinaryClassificationEvaluator( labelCol= 'target')\n",
        "print(\"Test Area Under ROC: \" + str(evaluator.evaluate(predictions, {evaluator.metricName: \"areaUnderROC\"})))"
      ]
    },
    {
      "cell_type": "code",
      "execution_count": null,
      "metadata": {
        "colab": {
          "base_uri": "https://localhost:8080/"
        },
        "id": "ugxP0_6YWjte",
        "outputId": "2677e10b-a006-479f-9e4f-e965a5df54ee"
      },
      "outputs": [
        {
          "name": "stdout",
          "output_type": "stream",
          "text": [
            "Accuracy -  0.8613445378151261\n",
            "Precision -  0.8741935483870967\n",
            "Recall -  0.8616852146263911\n",
            "F1 Score -  0.8678943154523618\n"
          ]
        }
      ],
      "source": [
        "# Evaluating the model on metrics such as Accuracy, precision and recall\n",
        "predictionAndTarget = dtModel.transform(df).select(\"target\", \"prediction\")\n",
        "\n",
        "predictionAndTarget = np.array((predictionAndTarget.collect()))\n",
        "\n",
        "acc = accuracy_score(predictionAndTarget[:,0], predictionAndTarget[:,1])\n",
        "f1 = f1_score(predictionAndTarget[:,0], predictionAndTarget[:,1])\n",
        "precision = precision_score(predictionAndTarget[:,0], predictionAndTarget[:,1])\n",
        "recall = recall_score(predictionAndTarget[:,0], predictionAndTarget[:,1])\n",
        "\n",
        "print(\"Accuracy - \", acc)\n",
        "print(\"Precision - \", precision)\n",
        "print(\"Recall - \", recall)\n",
        "print(\"F1 Score - \", f1)"
      ]
    },
    {
      "cell_type": "markdown",
      "metadata": {
        "id": "XE6iT2I-fG3H"
      },
      "source": [
        "# Random Forest"
      ]
    },
    {
      "cell_type": "code",
      "execution_count": null,
      "metadata": {
        "colab": {
          "base_uri": "https://localhost:8080/"
        },
        "id": "zo82hLCxfDEI",
        "outputId": "495d96a3-ff14-40ee-8a15-d60159fd105c"
      },
      "outputs": [
        {
          "name": "stdout",
          "output_type": "stream",
          "text": [
            "+------+--------------------+---+---+---------------+------------+-----------+-------------------+-----------+--------------+---------------+-------+--------+--------------------+--------------------+----------+\n",
            "|target|            features|age|sex|chest pain type|resting bp s|cholesterol|fasting blood sugar|resting ecg|max heart rate|exercise angina|oldpeak|ST slope|       rawPrediction|         probability|prediction|\n",
            "+------+--------------------+---+---+---------------+------------+-----------+-------------------+-----------+--------------+---------------+-------+--------+--------------------+--------------------+----------+\n",
            "|     0|(11,[0,1,2,3,7,10...| 51|  1|              4|         128|          0|                  0|          0|           107|              0|    0.0|       1|[13.4979703035884...|[0.67489851517942...|       0.0|\n",
            "|     0|(11,[0,2,3,4,7,10...| 32|  0|              2|         105|        198|                  0|          0|           165|              0|    0.0|       1|[18.9748033436476...|[0.94874016718238...|       0.0|\n",
            "|     0|(11,[0,2,3,4,7,10...| 34|  0|              2|         130|        161|                  0|          0|           190|              0|    0.0|       1|[18.9038108717357...|[0.94519054358678...|       0.0|\n",
            "|     0|(11,[0,2,3,4,7,10...| 35|  0|              4|         140|        167|                  0|          0|           150|              0|    0.0|       1|[16.4775537716174...|[0.82387768858087...|       0.0|\n",
            "|     0|(11,[0,2,3,4,7,10...| 37|  0|              3|         120|        215|                  0|          0|           170|              0|    0.0|       1|[18.9507069581054...|[0.94753534790527...|       0.0|\n",
            "|     0|(11,[0,2,3,4,7,10...| 39|  0|              3|          94|        199|                  0|          0|           179|              0|    0.0|       1|[18.3748033436476...|[0.91874016718238...|       0.0|\n",
            "|     0|(11,[0,2,3,4,7,10...| 41|  0|              2|         126|        306|                  0|          0|           163|              0|    0.0|       1|[18.8428638208505...|[0.94214319104252...|       0.0|\n",
            "|     0|(11,[0,2,3,4,7,10...| 43|  0|              1|         100|        223|                  0|          0|           142|              0|    0.0|       1|[16.5678129745502...|[0.82839064872751...|       0.0|\n",
            "|     0|(11,[0,2,3,4,7,10...| 45|  0|              2|         112|        160|                  0|          0|           138|              0|    0.0|       2|[12.7878694884842...|[0.63939347442421...|       0.0|\n",
            "|     0|(11,[0,2,3,4,7,10...| 49|  0|              2|         134|        271|                  0|          0|           162|              0|    0.0|       2|[13.2184603433468...|[0.66092301716734...|       0.0|\n",
            "+------+--------------------+---+---+---------------+------------+-----------+-------------------+-----------+--------------+---------------+-------+--------+--------------------+--------------------+----------+\n",
            "only showing top 10 rows\n",
            "\n"
          ]
        }
      ],
      "source": [
        "# Instantiating and training the Rando forest model \n",
        "rf = RandomForestClassifier(featuresCol = 'features', labelCol = 'target')\n",
        "rfModel = rf.fit(train)\n",
        "predictions = rfModel.transform(test)\n",
        "predictions.show(10)"
      ]
    },
    {
      "cell_type": "code",
      "execution_count": null,
      "metadata": {
        "colab": {
          "base_uri": "https://localhost:8080/"
        },
        "id": "teEyY6OvfLZV",
        "outputId": "088bf482-07f1-42c4-eac4-8d995bc2df53"
      },
      "outputs": [
        {
          "name": "stdout",
          "output_type": "stream",
          "text": [
            "Test Area Under ROC: 0.9115066559096408\n"
          ]
        }
      ],
      "source": [
        "# Area under the ROC curve \n",
        "evaluator = BinaryClassificationEvaluator( labelCol= 'target', metricName=\"recall\" )\n",
        "print(\"Test Area Under ROC: \" + str(evaluator.evaluate(predictions, {evaluator.metricName: \"areaUnderROC\"})))"
      ]
    },
    {
      "cell_type": "code",
      "execution_count": null,
      "metadata": {
        "colab": {
          "base_uri": "https://localhost:8080/"
        },
        "id": "9B-WThxBWwD-",
        "outputId": "b9ccf0b1-a45c-4536-ceba-30b1b68633f5"
      },
      "outputs": [
        {
          "name": "stdout",
          "output_type": "stream",
          "text": [
            "Accuracy -  0.8781512605042017\n",
            "Precision -  0.878125\n",
            "Recall -  0.8934817170111288\n",
            "F1 Score -  0.8857368006304176\n"
          ]
        }
      ],
      "source": [
        "# Evaluating the model on different paramets such as Accuracy, precison, recall\n",
        "predictionAndTarget = rfModel.transform(df).select(\"target\", \"prediction\")\n",
        "\n",
        "predictionAndTarget = np.array((predictionAndTarget.collect()))\n",
        "\n",
        "acc = accuracy_score(predictionAndTarget[:,0], predictionAndTarget[:,1])\n",
        "f1 = f1_score(predictionAndTarget[:,0], predictionAndTarget[:,1])\n",
        "precision = precision_score(predictionAndTarget[:,0], predictionAndTarget[:,1])\n",
        "recall = recall_score(predictionAndTarget[:,0], predictionAndTarget[:,1])\n",
        "\n",
        "print(\"Accuracy - \", acc)\n",
        "print(\"Precision - \", precision)\n",
        "print(\"Recall - \", recall)\n",
        "print(\"F1 Score - \", f1)"
      ]
    },
    {
      "cell_type": "markdown",
      "metadata": {
        "id": "Z-VMgeSvWQwy"
      },
      "source": [
        "## Grid search"
      ]
    },
    {
      "cell_type": "code",
      "execution_count": null,
      "metadata": {
        "id": "rNRMbhVxWrOs"
      },
      "outputs": [],
      "source": [
        "# Doing a Grid search to acheive better recall performance\n",
        "from pyspark.ml.tuning import CrossValidator\n",
        "from pyspark.ml.evaluation import RegressionEvaluator\n",
        "\n",
        "rfc_gs = RandomForestClassifier(featuresCol = 'features', labelCol = 'target')\n",
        "\n",
        "paramGrid = ParamGridBuilder() \\\n",
        "    .addGrid(rfc_gs.numTrees, [int(x) for x in np.linspace(start = 10, stop = 50, num = 3)]) \\\n",
        "    .addGrid(rfc_gs.maxDepth, [int(x) for x in np.linspace(start = 5, stop = 25, num = 3)]) \\\n",
        "    .build()\n",
        "stages_new=[]\n",
        "pipeline_new = Pipeline(stages =stages_new ) \n",
        "crossval = CrossValidator( estimator=pipeline_new,\n",
        "    estimatorParamMaps=paramGrid, \n",
        "    evaluator=RegressionEvaluator(labelCol= 'target'), \n",
        "                          numFolds=1)  \n",
        "cvModel = crossval.fit(train)"
      ]
    },
    {
      "cell_type": "code",
      "execution_count": null,
      "metadata": {
        "colab": {
          "background_save": true
        },
        "id": "HD-7J16nVq41",
        "outputId": "956b54a0-737a-49a6-935d-9ca9fe06e308"
      },
      "outputs": [
        {
          "data": {
            "text/plain": [
              "0.9655102864058087"
            ]
          },
          "execution_count": null,
          "metadata": {},
          "output_type": "execute_result"
        }
      ],
      "source": [
        "# Tuning the model \n",
        "from pyspark.ml.tuning import ParamGridBuilder, CrossValidator\n",
        "evaluator = BinaryClassificationEvaluator(labelCol = 'target')\n",
        "rf = RandomForestClassifier(featuresCol = 'features', labelCol = 'target')\n",
        "paramGrid = (ParamGridBuilder()\n",
        "            .addGrid(rf.numTrees,  [int(x) for x in np.linspace(start = 10, stop = 200, num = 5)])\n",
        "             .addGrid(rf.maxDepth, [int(x) for x in np.linspace(start = 5, stop = 25, num = 5)])\n",
        "             .addGrid(rf.impurity, ['entropy','gini'])\n",
        "             .addGrid(rf.featureSubsetStrategy, ['auto', 'sqrt'])\n",
        "             .addGrid(rf.bootstrap, [True, False])\n",
        "             .build())\n",
        "cv = CrossValidator(estimator=rf, estimatorParamMaps=paramGrid, evaluator=evaluator, numFolds=5)\n",
        "cvModel = cv.fit(train)\n",
        "predictions = cvModel.transform(test)\n",
        "evaluator.evaluate(predictions)"
      ]
    },
    {
      "cell_type": "code",
      "execution_count": null,
      "metadata": {
        "colab": {
          "background_save": true
        },
        "id": "gu7bdFedpaXt",
        "outputId": "58953585-fe1c-4772-91d4-6622f42c9423"
      },
      "outputs": [
        {
          "data": {
            "text/plain": [
              "(0.9556687800599277,\n",
              " {Param(parent='RandomForestClassifier_fc225eda857d', name='bootstrap', doc='Whether bootstrap samples are used when building trees.'): False,\n",
              "  Param(parent='RandomForestClassifier_fc225eda857d', name='featureSubsetStrategy', doc=\"The number of features to consider for splits at each tree node. Supported options: 'auto' (choose automatically for task: If numTrees == 1, set to 'all'. If numTrees > 1 (forest), set to 'sqrt' for classification and to 'onethird' for regression), 'all' (use all features), 'onethird' (use 1/3 of the features), 'sqrt' (use sqrt(number of features)), 'log2' (use log2(number of features)), 'n' (when n is in the range (0, 1.0], use n * number of features. When n is in the range (1, number of features), use n features). default = 'auto'\"): 'auto',\n",
              "  Param(parent='RandomForestClassifier_fc225eda857d', name='impurity', doc='Criterion used for information gain calculation (case-insensitive). Supported options: entropy, gini'): 'gini',\n",
              "  Param(parent='RandomForestClassifier_fc225eda857d', name='maxDepth', doc='Maximum depth of the tree. (>= 0) E.g., depth 0 means 1 leaf node; depth 1 means 1 internal node + 2 leaf nodes. Must be in range [0, 30].'): 20,\n",
              "  Param(parent='RandomForestClassifier_fc225eda857d', name='numTrees', doc='Number of trees to train (>= 1).'): 105})"
            ]
          },
          "execution_count": null,
          "metadata": {},
          "output_type": "execute_result"
        }
      ],
      "source": [
        "# Pulling out the best model out of it\n",
        "temp_temp = list(zip(cvModel.avgMetrics, paramGrid))\n",
        "sorted(temp_temp, key = lambda x : x[0], reverse = True)[0]"
      ]
    },
    {
      "cell_type": "code",
      "execution_count": null,
      "metadata": {
        "colab": {
          "base_uri": "https://localhost:8080/"
        },
        "id": "XQUuLaQLnIHa",
        "outputId": "733f1ab0-6d07-4574-e238-58e17ce0f868"
      },
      "outputs": [
        {
          "name": "stdout",
          "output_type": "stream",
          "text": [
            "+------+--------------------+---+---+---------------+------------+-----------+-------------------+-----------+--------------+---------------+-------+--------+--------------------+--------------------+----------+\n",
            "|target|            features|age|sex|chest pain type|resting bp s|cholesterol|fasting blood sugar|resting ecg|max heart rate|exercise angina|oldpeak|ST slope|       rawPrediction|         probability|prediction|\n",
            "+------+--------------------+---+---+---------------+------------+-----------+-------------------+-----------+--------------+---------------+-------+--------+--------------------+--------------------+----------+\n",
            "|     0|(11,[0,1,2,3,7,10...| 51|  1|              4|         128|          0|                  0|          0|           107|              0|    0.0|       1|[25.7489004699268...|[0.51497800939853...|       0.0|\n",
            "|     0|(11,[0,2,3,4,7,10...| 32|  0|              2|         105|        198|                  0|          0|           165|              0|    0.0|       1|[48.9882352941176...|[0.97976470588235...|       0.0|\n",
            "|     0|(11,[0,2,3,4,7,10...| 34|  0|              2|         130|        161|                  0|          0|           190|              0|    0.0|       1|[49.9767638265497...|[0.99953527653099...|       0.0|\n",
            "|     0|(11,[0,2,3,4,7,10...| 35|  0|              4|         140|        167|                  0|          0|           150|              0|    0.0|       1|[35.0762496208674...|[0.70152499241734...|       0.0|\n",
            "|     0|(11,[0,2,3,4,7,10...| 37|  0|              3|         120|        215|                  0|          0|           170|              0|    0.0|       1|[49.9767638265497...|[0.99953527653099...|       0.0|\n",
            "|     0|(11,[0,2,3,4,7,10...| 39|  0|              3|          94|        199|                  0|          0|           179|              0|    0.0|       1|[49.9882352941176...|[0.99976470588235...|       0.0|\n",
            "|     0|(11,[0,2,3,4,7,10...| 41|  0|              2|         126|        306|                  0|          0|           163|              0|    0.0|       1|[49.9767638265497...|[0.99953527653099...|       0.0|\n",
            "|     0|(11,[0,2,3,4,7,10...| 43|  0|              1|         100|        223|                  0|          0|           142|              0|    0.0|       1|          [49.0,1.0]|         [0.98,0.02]|       0.0|\n",
            "|     0|(11,[0,2,3,4,7,10...| 45|  0|              2|         112|        160|                  0|          0|           138|              0|    0.0|       2|[40.9361702127659...|[0.81872340425531...|       0.0|\n",
            "|     0|(11,[0,2,3,4,7,10...| 49|  0|              2|         134|        271|                  0|          0|           162|              0|    0.0|       2|[43.9361702127659...|[0.87872340425531...|       0.0|\n",
            "+------+--------------------+---+---+---------------+------------+-----------+-------------------+-----------+--------------+---------------+-------+--------+--------------------+--------------------+----------+\n",
            "only showing top 10 rows\n",
            "\n"
          ]
        }
      ],
      "source": [
        "# Predicting using the best random forest model\n",
        "rf = RandomForestClassifier(featuresCol = 'features', labelCol = 'target',maxBins=10,maxDepth=25, numTrees=50 )\n",
        "rfModel = rf.fit(train)\n",
        "predictions = rfModel.transform(test)\n",
        "predictions.show(10)"
      ]
    },
    {
      "cell_type": "code",
      "execution_count": null,
      "metadata": {
        "colab": {
          "base_uri": "https://localhost:8080/"
        },
        "id": "PmQf-WyuqhTv",
        "outputId": "e63ed525-0295-40d7-8165-1ac821cfa9dd"
      },
      "outputs": [
        {
          "output_type": "stream",
          "name": "stdout",
          "text": [
            "Precision :  0.9156626506024096\n",
            "Accuracy :  0.9328859060402684\n",
            "F1 score :  0.9382716049382716\n",
            "recall :  0.9620253164556962\n"
          ]
        }
      ],
      "source": [
        "# Predictions from the best model \n",
        "predictionAndTarget = rfModel.transform(test).select(\"target\", \"prediction\")\n",
        "predictionAndTarget = np.array((predictionAndTarget.collect()))\n",
        "acc = accuracy_score(predictionAndTarget[:,0], predictionAndTarget[:,1])\n",
        "f1 = f1_score(predictionAndTarget[:,0], predictionAndTarget[:,1])\n",
        "precision = precision_score(predictionAndTarget[:,0], predictionAndTarget[:,1])\n",
        "recall = recall_score(predictionAndTarget[:,0], predictionAndTarget[:,1])\n",
        "\n",
        "print(\"Accuracy - \", acc)\n",
        "print(\"Precision - \", precision)\n",
        "print(\"Recall - \", recall)\n",
        "print(\"F1 Score - \", f1)"
      ]
    },
    {
      "cell_type": "markdown",
      "metadata": {
        "id": "OBf_Ico4fUUj"
      },
      "source": [
        "# Gradient boosted trees"
      ]
    },
    {
      "cell_type": "code",
      "execution_count": null,
      "metadata": {
        "colab": {
          "base_uri": "https://localhost:8080/"
        },
        "id": "QTSkYJbufRk5",
        "outputId": "72d57ce6-bf7c-4d65-c5dc-3ead7557c749"
      },
      "outputs": [
        {
          "name": "stdout",
          "output_type": "stream",
          "text": [
            "+------+--------------------+---+---+---------------+------------+-----------+-------------------+-----------+--------------+---------------+-------+--------+--------------------+--------------------+----------+\n",
            "|target|            features|age|sex|chest pain type|resting bp s|cholesterol|fasting blood sugar|resting ecg|max heart rate|exercise angina|oldpeak|ST slope|       rawPrediction|         probability|prediction|\n",
            "+------+--------------------+---+---+---------------+------------+-----------+-------------------+-----------+--------------+---------------+-------+--------+--------------------+--------------------+----------+\n",
            "|     0|(11,[0,1,2,3,7,10...| 51|  1|              4|         128|          0|                  0|          0|           107|              0|    0.0|       1|[-0.4748947032534...|[0.27892717600186...|       1.0|\n",
            "|     0|(11,[0,2,3,4,7,10...| 32|  0|              2|         105|        198|                  0|          0|           165|              0|    0.0|       1|[1.36381965663804...|[0.93863801013455...|       0.0|\n",
            "|     0|(11,[0,2,3,4,7,10...| 34|  0|              2|         130|        161|                  0|          0|           190|              0|    0.0|       1|[1.35615128463165...|[0.93774869913954...|       0.0|\n",
            "|     0|(11,[0,2,3,4,7,10...| 35|  0|              4|         140|        167|                  0|          0|           150|              0|    0.0|       1|[0.76776278069368...|[0.82281333183255...|       0.0|\n",
            "|     0|(11,[0,2,3,4,7,10...| 37|  0|              3|         120|        215|                  0|          0|           170|              0|    0.0|       1|[1.32443743389466...|[0.93394160971972...|       0.0|\n",
            "|     0|(11,[0,2,3,4,7,10...| 39|  0|              3|          94|        199|                  0|          0|           179|              0|    0.0|       1|[1.26360658585142...|[0.92602768100484...|       0.0|\n",
            "|     0|(11,[0,2,3,4,7,10...| 41|  0|              2|         126|        306|                  0|          0|           163|              0|    0.0|       1|[1.26538452091394...|[0.92627089088946...|       0.0|\n",
            "|     0|(11,[0,2,3,4,7,10...| 43|  0|              1|         100|        223|                  0|          0|           142|              0|    0.0|       1|[1.43195732444517...|[0.94603350775450...|       0.0|\n",
            "|     0|(11,[0,2,3,4,7,10...| 45|  0|              2|         112|        160|                  0|          0|           138|              0|    0.0|       2|[0.34148051989742...|[0.66439925006428...|       0.0|\n",
            "|     0|(11,[0,2,3,4,7,10...| 49|  0|              2|         134|        271|                  0|          0|           162|              0|    0.0|       2|[0.71272718768261...|[0.80619206657689...|       0.0|\n",
            "+------+--------------------+---+---+---------------+------------+-----------+-------------------+-----------+--------------+---------------+-------+--------+--------------------+--------------------+----------+\n",
            "only showing top 10 rows\n",
            "\n"
          ]
        }
      ],
      "source": [
        "# Also going with Gradient boosting algorithm, just to see if you can find any better solution \n",
        "gbt = GBTClassifier(featuresCol = 'features', labelCol = 'target',maxIter=10)\n",
        "gbtModel = gbt.fit(train)\n",
        "predictions = gbtModel.transform(test)\n",
        "predictions.show(10)"
      ]
    },
    {
      "cell_type": "code",
      "execution_count": null,
      "metadata": {
        "colab": {
          "base_uri": "https://localhost:8080/"
        },
        "id": "LWRsJOkBfYZ_",
        "outputId": "6a4ed266-ff45-4e22-aace-368179247c5c"
      },
      "outputs": [
        {
          "name": "stdout",
          "output_type": "stream",
          "text": [
            "Test Area Under ROC: 0.9172381336560441\n"
          ]
        }
      ],
      "source": [
        "# Area under the ROC curve \n",
        "evaluator = BinaryClassificationEvaluator(labelCol= 'target')\n",
        "print(\"Test Area Under ROC: \" + str(evaluator.evaluate(predictions, {evaluator.metricName: \"areaUnderROC\"})))"
      ]
    },
    {
      "cell_type": "code",
      "execution_count": null,
      "metadata": {
        "colab": {
          "base_uri": "https://localhost:8080/"
        },
        "id": "xJsT4B6tW4bS",
        "outputId": "4c802392-dc99-4fd7-f1b5-319885d6ba67"
      },
      "outputs": [
        {
          "name": "stdout",
          "output_type": "stream",
          "text": [
            "Accuracy -  0.9100840336134454\n",
            "Precision -  0.9027777777777778\n",
            "Recall -  0.9300476947535771\n",
            " F1 Score -  0.9162098668754894\n"
          ]
        }
      ],
      "source": [
        "# Evaluating the model\n",
        "predictionAndTarget = gbtModel.transform(df).select(\"target\", \"prediction\")\n",
        "\n",
        "predictionAndTarget = np.array((predictionAndTarget.collect()))\n",
        "\n",
        "acc = accuracy_score(predictionAndTarget[:,0], predictionAndTarget[:,1])\n",
        "f1 = f1_score(predictionAndTarget[:,0], predictionAndTarget[:,1])\n",
        "precision = precision_score(predictionAndTarget[:,0], predictionAndTarget[:,1])\n",
        "recall = recall_score(predictionAndTarget[:,0], predictionAndTarget[:,1])\n",
        "\n",
        "print(\"Accuracy - \", acc)\n",
        "print(\"Precision - \", precision)\n",
        "print(\"Recall - \", recall)\n",
        "print(\"F1 Score - \", f1)"
      ]
    },
    {
      "cell_type": "markdown",
      "source": [
        "## Grid search for gradient boosted trees"
      ],
      "metadata": {
        "id": "SUDLdH0BEO68"
      }
    },
    {
      "cell_type": "code",
      "execution_count": null,
      "metadata": {
        "colab": {
          "base_uri": "https://localhost:8080/"
        },
        "id": "vKVp_tUifmXu",
        "outputId": "de9e6fda-6896-40d5-8d60-14293806f366"
      },
      "outputs": [
        {
          "data": {
            "text/plain": [
              "0.916851553045583"
            ]
          },
          "execution_count": 119,
          "metadata": {},
          "output_type": "execute_result"
        }
      ],
      "source": [
        "# grid search for gradient boosted treest]\n",
        "from pyspark.ml.tuning import ParamGridBuilder, CrossValidator\n",
        "paramGrid = (ParamGridBuilder()\n",
        "             .addGrid(gbt.maxDepth, [2, 4, 6])\n",
        "             .addGrid(gbt.maxBins, [20, 60])\n",
        "             .addGrid(gbt.maxIter, [10, 20])\n",
        "             .build())\n",
        "cv = CrossValidator(estimator=gbt, estimatorParamMaps=paramGrid, evaluator=evaluator, numFolds=5)\n",
        "cvModel = cv.fit(train)\n",
        "predictions = cvModel.transform(test)\n",
        "evaluator.evaluate(predictions)"
      ]
    },
    {
      "cell_type": "code",
      "execution_count": null,
      "metadata": {
        "colab": {
          "base_uri": "https://localhost:8080/"
        },
        "id": "FQb5pW33rCR3",
        "outputId": "ba78d346-1fe1-4a38-fd67-77c75aaf6f00"
      },
      "outputs": [
        {
          "data": {
            "text/plain": [
              "(0.9265273947241967,\n",
              " {Param(parent='GBTClassifier_967a2630e637', name='maxBins', doc='Max number of bins for discretizing continuous features.  Must be >=2 and >= number of categories for any categorical feature.'): 60,\n",
              "  Param(parent='GBTClassifier_967a2630e637', name='maxDepth', doc='Maximum depth of the tree. (>= 0) E.g., depth 0 means 1 leaf node; depth 1 means 1 internal node + 2 leaf nodes. Must be in range [0, 30].'): 4,\n",
              "  Param(parent='GBTClassifier_967a2630e637', name='maxIter', doc='max number of iterations (>= 0).'): 20})"
            ]
          },
          "execution_count": 122,
          "metadata": {},
          "output_type": "execute_result"
        }
      ],
      "source": [
        "# best model\n",
        "temp_temp = list(zip(cvModel.avgMetrics, paramGrid))\n",
        "sorted(temp_temp, key = lambda x : x[0], reverse = True)[0]"
      ]
    },
    {
      "cell_type": "code",
      "execution_count": null,
      "metadata": {
        "colab": {
          "base_uri": "https://localhost:8080/"
        },
        "id": "4g1wArFUrCx_",
        "outputId": "cae4903d-5c7a-4f2e-c5e1-cf7069a85602"
      },
      "outputs": [
        {
          "name": "stdout",
          "output_type": "stream",
          "text": [
            "Accuracy -  0.9025787965616046\n",
            "Precision -  0.9195979899497487\n",
            "Recall -  0.9104477611940298\n",
            "F1 Score -  0.9149999999999999\n"
          ]
        }
      ],
      "source": [
        "# predictions from the best model \n",
        "gbt = GBTClassifier(featuresCol = 'features', labelCol = 'target',maxIter=20,maxBins=60, maxDepth=4 )\n",
        "gbtModel = gbt.fit(train)\n",
        "predictions = gbtModel.transform(test)\n",
        "\n",
        "predictionAndTarget = rfModel.transform(test).select(\"target\", \"prediction\")\n",
        "predictionAndTarget = np.array((predictionAndTarget.collect()))\n",
        "acc = accuracy_score(predictionAndTarget[:,0], predictionAndTarget[:,1])\n",
        "f1 = f1_score(predictionAndTarget[:,0], predictionAndTarget[:,1])\n",
        "precision = precision_score(predictionAndTarget[:,0], predictionAndTarget[:,1])\n",
        "recall = recall_score(predictionAndTarget[:,0], predictionAndTarget[:,1])\n",
        "\n",
        "print(\"Accuracy - \", acc)\n",
        "print(\"Precision - \", precision)\n",
        "print(\"Recall - \", recall)\n",
        "print(\"F1 Score - \", f1)"
      ]
    },
    {
      "cell_type": "markdown",
      "metadata": {
        "id": "xanAO1A5s5Zn"
      },
      "source": [
        "# Deployment\n",
        "* We are planning to deploy the model as a SaaS tool, so that people can use this directly as a website without any specific data science or ML idea"
      ]
    },
    {
      "cell_type": "code",
      "execution_count": null,
      "metadata": {
        "id": "BCpr9d4Ws44C"
      },
      "outputs": [],
      "source": [
        "# HTML template that has to be deployed\n",
        "ftp = open(\"main.html\",\"w+\")\n",
        "ftp.write(\"\"\"<!doctype html>\n",
        "<html>\n",
        "<head>\n",
        "<meta name=\"viewport\" content=\"width=device-width\">\n",
        "<style type=\"text/css\">\n",
        "    html {\n",
        "  height: 100%;\n",
        "}\n",
        "body {\n",
        "  margin:0;\n",
        "  padding:0;\n",
        "  font-family: sans-serif;\n",
        "  background: linear-gradient(#141e30, #243b55);\n",
        "}\n",
        "\n",
        ".login-box {\n",
        "  position: absolute;\n",
        "  top: 50%;\n",
        "  left: 50%;\n",
        "  botton:10%;\n",
        "  width: 500px;\n",
        "  height: 900px;\n",
        "  padding: 40px;\n",
        "  transform: translate(-50%, -50%);\n",
        "  background: rgba(0,0,0,.5);\n",
        "  box-sizing: border-box;\n",
        "  box-shadow: 0 15px 25px rgba(0,0,0,.6);\n",
        "  border-radius: 10px;\n",
        "}\n",
        "\n",
        ".login-box h2 {\n",
        "  margin: 0 0 15px;\n",
        "  padding: 0;\n",
        "  color: #fff;\n",
        "  text-align: center;\n",
        "}\n",
        "\n",
        ".login-box .user-box {\n",
        "  position: relative;\n",
        "}\n",
        "\n",
        ".login-box .user-box input {\n",
        "  width: 100%;\n",
        "  padding: 10px 0;\n",
        "  font-size: 10px;\n",
        "  color: #fff;\n",
        "  margin-bottom: 25px;\n",
        "  border: none;\n",
        "  border-bottom: 1px solid #fff;\n",
        "  outline: none;\n",
        "  background: transparent;\n",
        "}\n",
        ".login-box .user-box label {\n",
        "  position: absolute;\n",
        "  top:0;\n",
        "  left: 0;\n",
        "  padding: 10px 0;\n",
        "  font-size: 15px;\n",
        "  color: #fff;\n",
        "  pointer-events: none;\n",
        "  transition: .5s;\n",
        "}\n",
        "\n",
        ".login-box .user-box input:focus ~ label,\n",
        ".login-box .user-box input:valid ~ label {\n",
        "  top: -20px;\n",
        "  left: 0;\n",
        "  color: #03e9f4;\n",
        "  font-size: 12px;\n",
        "}\n",
        "\n",
        ".login-box form a {\n",
        "  position: relative;\n",
        "  display: inline-block;\n",
        "  padding: 10px 20px;\n",
        "  color: #03e9f4;\n",
        "  font-size: 16px;\n",
        "  text-decoration: none;\n",
        "  text-transform: uppercase;\n",
        "  overflow: hidden;\n",
        "  transition: .5s;\n",
        "  margin-top: 40px;\n",
        "  letter-spacing: 4px\n",
        "}\n",
        "\n",
        ".d {\n",
        "  background-color: #03e9f4; /* Green */\n",
        "  border: none;\n",
        "  color: white;\n",
        "  padding: 10px 40px;\n",
        "  text-align: center;\n",
        "  text-decoration: none;\n",
        "  display: inline-block;\n",
        "  font-size: 16px;\n",
        "  border-radius: 12px;\n",
        "}\n",
        "\n",
        ".d:hover {\n",
        "  background: #03e9f4;\n",
        "  color: #fff;\n",
        "  border-radius: 5px;\n",
        "  box-shadow: 0 0 5px #03e9f4,\n",
        "              0 0 25px #03e9f4,\n",
        "              0 0 50px #03e9f4,\n",
        "              0 0 100px #03e9f4;\n",
        "}\n",
        "\n",
        "\n",
        "\n",
        ".login-box a span {\n",
        "  position: absolute;\n",
        "  display: block;\n",
        "}\n",
        "\n",
        ".login-box a span:nth-child(1) {\n",
        "  top: 0;\n",
        "  left: -100%;\n",
        "  width: 100%;\n",
        "  height: 2px;\n",
        "  background: linear-gradient(90deg, transparent, #03e9f4);\n",
        "  animation: btn-anim1 1s linear infinite;\n",
        "}\n",
        "\n",
        "@keyframes btn-anim1 {\n",
        "  0% {\n",
        "    left: -100%;\n",
        "  }\n",
        "  50%,100% {\n",
        "    left: 100%;\n",
        "  }\n",
        "}\n",
        "\n",
        ".login-box a span:nth-child(2) {\n",
        "  top: -100%;\n",
        "  right: 0;\n",
        "  width: 2px;\n",
        "  height: 100%;\n",
        "  background: linear-gradient(180deg, transparent, #03e9f4);\n",
        "  animation: btn-anim2 1s linear infinite;\n",
        "  animation-delay: .25s\n",
        "}\n",
        "\n",
        "@keyframes btn-anim2 {\n",
        "  0% {\n",
        "    top: -100%;\n",
        "  }\n",
        "  50%,100% {\n",
        "    top: 100%;\n",
        "  }\n",
        "}\n",
        "\n",
        ".login-box a span:nth-child(3) {\n",
        "  bottom: 0;\n",
        "  right: -100%;\n",
        "  width: 100%;\n",
        "  height: 2px;\n",
        "  background: linear-gradient(270deg, transparent, #03e9f4);\n",
        "  animation: btn-anim3 1s linear infinite;\n",
        "  animation-delay: .5s\n",
        "}\n",
        "\n",
        ".label {\n",
        "  color: white;\n",
        "}\n",
        ".label_result {\n",
        "  color: white;\n",
        "  font-size:30px;\n",
        "  text-align: right;\n",
        "  padding: 0 130px;\n",
        "}\n",
        "\n",
        ".label_result_1 {\n",
        "  color: white;\n",
        "  font-size:20px;\n",
        "  text-align: right;\n",
        "  padding: 0 130px;\n",
        "}\n",
        ".select {\n",
        "  height: 25px;\n",
        "}\n",
        "\n",
        "\n",
        "@keyframes btn-anim3 {\n",
        "  0% {\n",
        "    right: -100%;\n",
        "  }\n",
        "  50%,100% {\n",
        "    right: 100%;\n",
        "  }\n",
        "}\n",
        "\n",
        ".login-box a span:nth-child(4) {\n",
        "  bottom: -100%;\n",
        "  left: 0;\n",
        "  width: 2px;\n",
        "  height: 100%;\n",
        "  background: linear-gradient(360deg, transparent, #03e9f4);\n",
        "  animation: btn-anim4 1s linear infinite;\n",
        "  animation-delay: .75s\n",
        "}\n",
        "\n",
        "@keyframes btn-anim4 {\n",
        "  0% {\n",
        "    bottom: -100%;\n",
        "  }\n",
        "  50%,100% {\n",
        "    bottom: 100%;\n",
        "  }\n",
        "  \n",
        "}\n",
        "\n",
        "\n",
        "\n",
        "</style>\n",
        "</head>\n",
        "<body>\n",
        "<div class=\"login-box\">\n",
        "<br>\n",
        "<br>\n",
        "<br>\n",
        "<br>\n",
        "<br>\n",
        "<br>\n",
        "  <h2>Heart Risk Prediction</h2>\n",
        "  <form action=\"{{ url_for('main') }}\" method=\"POST\">\n",
        "    <div class=\"user-box\">\n",
        "      <input type=\"number\" name=\"age\" required=\"\">\n",
        "      <label>Age</label>\n",
        "    </div>\n",
        "<div class=\"user-box\">\n",
        "      <input type=\"number\" name=\"resting_bp\" required=\"\">\n",
        "      <label>Resting Blood Pressure (in mm Hg)</label>\n",
        "    </div>\n",
        "<div class=\"user-box\">\n",
        "      <input type=\"number\" name=\"cholesterol\" required=\"\">\n",
        "      <label>Cholesterol (in mg/dl)</label>\n",
        "    </div>\n",
        "<div class=\"user-box\">\n",
        "      <input type=\"number\" name=\"heart_rate\" required=\"\">\n",
        "      <label>Max Heart Rate</label>\n",
        "    </div>\n",
        "<div class=\"user-box\">\n",
        "      <input type=\"number\" name=\"oldpeak\" required=\"\">\n",
        "      <label>OldPeak (ST Depression)</label>\n",
        "    </div>\n",
        "<div>\n",
        "<label for=\"gender\" class=\"label\">Sex  </label>\n",
        "<select name=\"sex\" id=\"gender\" class=\"select\">\n",
        "    <option value=\"1\">Male</option>\n",
        "    <option value=\"0\">Female</option>\n",
        "    </select>\n",
        "    <br>\n",
        "<br>\n",
        "<label for=\"fbs\" class=\"label\">Fasting Blood Sugar</label>\n",
        "<select name=\"fasting_blood_sugar\" id=\"fbs\" class=\"select\">\n",
        "    <option value=\"1\"> > 120 mg/dl</option>\n",
        "    <option value=\"0\"> &#60= 120 mg/dl</option>\n",
        "    </select>\n",
        "<br>\n",
        "<br>\n",
        "<label for=\"cp\" class=\"label\">Chest Pain</label>\n",
        "<select name=\"chest_pain_type\" id=\"cp\" class=\"select\">\n",
        "    <option value=\"4\">Asymptomatic</option>\n",
        "    <option value=\"3\">Non-Anginal Pain</option>\n",
        "<option value=\"2\">Atypical Angina</option>\n",
        "    <option value=\"1\">Typical Angina</option>\n",
        "    </select>\n",
        "<br>\n",
        "<br>\n",
        "<label for=\"ecg\" class=\"label\">Resting ECG</label>\n",
        "<select name=\"ecg\" id=\"ecg\" class=\"select\">\n",
        "    <option value=\"0\">Normal</option>\n",
        "    <option value=\"1\">Have ST - T Wave Abnormality</option>\n",
        "    <option value=\"2\">Probable/Definite Left Ventricular Hypertrophy</option>\n",
        "    </select>\n",
        "<br>\n",
        "<br>\n",
        "<label for=\"hrde\" class=\"label\">Heart Rate During Exercise</label>\n",
        "<select name=\"ST_slope\" id=\"hrde\" class=\"select\">\n",
        "    <option value=\"1\">Increasing</option>\n",
        "    <option value=\"2\">Constant</option>\n",
        "    <option value=\"3\">Decreasing</option>\n",
        "    </select>\n",
        "<br>\n",
        "    <br>\n",
        "<label for=\"exan\" class=\"label\">Exercise Angina</label>\n",
        "<select name=\"exercise\" id=\"exan\" class=\"select\">\n",
        "    <option value=\"1\">Yes</option>\n",
        "    <option value=\"0\">No</option>\n",
        "    </select>\n",
        "<br>\n",
        "<br>\n",
        "<br>\n",
        "        <input class='d' type=\"submit\">\n",
        "        <br>\n",
        "        <br>\n",
        "        <br>\n",
        "    {% if result %}\n",
        "  <!--     {% for variable, value in original_input.items() %}\n",
        "            <b class='label_result_1'>{{ variable }}</b> : {{ value }}\n",
        "        {% endfor %} -->\n",
        "           <b class='label_result'>{{ result }}</b>\n",
        "    {% endif %}\n",
        "</div>\n",
        "  </form>\n",
        "</body>\n",
        "</html>\n",
        "\"\"\")\n",
        "ftp.close()"
      ]
    },
    {
      "cell_type": "code",
      "execution_count": null,
      "metadata": {
        "id": "5mFf37LYtPH1"
      },
      "outputs": [],
      "source": [
        "# App to collect and return data, a python script that runs on the server, that constantly checks and replys\n",
        "fpt = open(\"app.py\",\"w+\")\n",
        "fpt.write(\"\"\"import flask\n",
        "import pickle\n",
        "import pandas as pd\n",
        "\n",
        "# Use pickle to load in the pre-trained model\n",
        "with open(f'model/bike_model_xgboost.pkl', 'rb') as f:\n",
        "    model = pickle.load(f)\n",
        "\n",
        "# Initialise the Flask app\n",
        "app = flask.Flask(__name__, template_folder='templates')\n",
        "\n",
        "# Set up the main route\n",
        "@app.route('/', methods=['GET', 'POST'])\n",
        "def main():\n",
        "    if flask.request.method == 'GET':\n",
        "        # Just render the initial form, to get input\n",
        "        return(flask.render_template('main.html'))\n",
        "    \n",
        "    if flask.request.method == 'POST':\n",
        "        # Extract the input\n",
        "        age = flask.request.form['age']\n",
        "        sex = flask.request.form['sex']\n",
        "        chest_pain_type = flask.request.form['chest_pain_type']\n",
        "        resting_bp = flask.request.form['resting_bp']\n",
        "        cholesterol = flask.request.form['cholesterol']\n",
        "        fasting_blood_sugar = flask.request.form['fasting_blood_sugar']\n",
        "        ecg = flask.request.form['ecg']\n",
        "        heart_rate = flask.request.form['heart_rate']\n",
        "        exercise = flask.request.form['exercise']\n",
        "        oldpeak = flask.request.form['oldpeak']\n",
        "        ST_slope = flask.request.form['ST_slope']\n",
        "        # Make DataFrame for model\n",
        "        input_variables = pd.DataFrame([[age, sex, chest_pain_type,resting_bp,cholesterol, fasting_blood_sugar,ecg,heart_rate,exercise, oldpeak,ST_slope ]],\n",
        "                                       columns=['age', 'sex', 'chest_pain_type', 'resting_bp', 'cholesterol',\n",
        "       'fasting_blood_sugar', 'ecg', 'heart_rate',\n",
        "       'exercise', 'oldpeak', 'ST_slope'],\n",
        "                                       dtype=float,\n",
        "                                       index=['input'])\n",
        "\n",
        "        # Get the model's prediction\n",
        "        prediction = model.predict(input_variables)[0]\n",
        "        \n",
        "        if prediction ==0:\n",
        "            prediction = \"No Risk\"\n",
        "        else:\n",
        "            prediction = \"Risky\"\n",
        "        \n",
        "        # Render the form again, but add in the prediction and remind user\n",
        "        # of the values they input before\n",
        "\n",
        "        return flask.render_template('main.html',\n",
        "                                     original_input={'age':age , 'sex':sex, 'chest_pain_type':chest_pain_type\n",
        "                                     , 'resting_bp':resting_bp, 'cholesterol':cholesterol,\n",
        "       'fasting_blood_sugar':fasting_blood_sugar, 'ecg':ecg, 'heart_rate':heart_rate,\n",
        "       'exercise':exercise, 'oldpeak':oldpeak, 'ST_slope':ST_slope},\n",
        "                                     result=prediction,\n",
        "                                     )\n",
        "\n",
        "if __name__ == '__main__':\n",
        "    app.run()\"\"\")\n",
        "fpt.close()"
      ]
    },
    {
      "cell_type": "markdown",
      "metadata": {
        "id": "ehkZ5Mvztv0i"
      },
      "source": [
        "### Deploy it on horuku \n",
        "* created a local git repo\n",
        "* Created a new Heroku app\n",
        "* pushed everything to heroku"
      ]
    },
    {
      "cell_type": "markdown",
      "source": [
        "Deployed at - https://shan-423-assignment-ucd.herokuapp.com/"
      ],
      "metadata": {
        "id": "wvKUJ-qekP4Q"
      }
    }
  ],
  "metadata": {
    "colab": {
      "collapsed_sections": [],
      "name": "Final Project.ipynb",
      "provenance": [],
      "include_colab_link": true
    },
    "kernelspec": {
      "display_name": "Python 3",
      "name": "python3"
    },
    "language_info": {
      "name": "python"
    }
  },
  "nbformat": 4,
  "nbformat_minor": 0
}